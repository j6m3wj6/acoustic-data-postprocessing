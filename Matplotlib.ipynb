{
 "cells": [
  {
   "cell_type": "code",
   "execution_count": null,
   "id": "c220595c",
   "metadata": {},
   "outputs": [],
   "source": [
    "import matplotlib.pyplot as plt\n",
    "import numpy as np"
   ]
  },
  {
   "cell_type": "code",
   "execution_count": null,
   "id": "de958f5f",
   "metadata": {},
   "outputs": [],
   "source": [
    "x = np.arange(10)\n",
    "fig, ax = plt.subplots()\n",
    "\n",
    "lines = []\n",
    "for i in range(1, 5):\n",
    "    line, = ax.plot(x, i * x, label=r'$y={}x$'.format(i))\n",
    "    lines.append(line)\n",
    "lines\n",
    "\n",
    "#ax.legend();"
   ]
  },
  {
   "cell_type": "code",
   "execution_count": null,
   "id": "7aeca3a5",
   "metadata": {},
   "outputs": [],
   "source": [
    "ax.legend(loc='upper left', fancybox=True, framealpha=1, \n",
    "          shadow=True, borderpad=1)\n",
    "fig"
   ]
  },
  {
   "cell_type": "code",
   "execution_count": null,
   "id": "13fa47c7",
   "metadata": {},
   "outputs": [],
   "source": [
    "ax.legend(frameon=False, loc='lower center', ncol=2)\n",
    "fig"
   ]
  },
  {
   "cell_type": "code",
   "execution_count": null,
   "id": "f4c70b14",
   "metadata": {},
   "outputs": [],
   "source": [
    "ax.legend(fancybox=True, framealpha=1, shadow=True, borderpad=1)\n",
    "fig"
   ]
  },
  {
   "cell_type": "code",
   "execution_count": null,
   "id": "174b0271",
   "metadata": {},
   "outputs": [],
   "source": [
    "# specify the lines and labels of the first legend\n",
    "ax.legend(lines[:2], ['line A', 'line B'],\n",
    "          loc='upper left', frameon=False)\n",
    "\n",
    "# Create the second legend and add the artist manually.\n",
    "from matplotlib.legend import Legend\n",
    "leg = Legend(ax, lines[2:], ['line C', 'line D'],\n",
    "             loc='lower left', frameon=False)\n",
    "\n",
    "ax.add_artist(leg);\n",
    "fig"
   ]
  },
  {
   "cell_type": "code",
   "execution_count": null,
   "id": "a08f112d",
   "metadata": {},
   "outputs": [],
   "source": [
    "ax.get_legend().remove()\n",
    "ax.get_legend().set_visible(False)\n",
    "fig"
   ]
  },
  {
   "cell_type": "code",
   "execution_count": null,
   "id": "4eee361f",
   "metadata": {},
   "outputs": [],
   "source": [
    "ax.set_xscale('log')\n",
    "ax.legend\n",
    "fig"
   ]
  },
  {
   "cell_type": "code",
   "execution_count": null,
   "id": "9db5d5a6",
   "metadata": {},
   "outputs": [],
   "source": [
    "xdata, ydata = lines[0].get_data()\n",
    "xdata"
   ]
  },
  {
   "cell_type": "code",
   "execution_count": null,
   "id": "dee81c03",
   "metadata": {},
   "outputs": [],
   "source": [
    "color = lines[2].get_c()\n",
    "color"
   ]
  },
  {
   "cell_type": "code",
   "execution_count": null,
   "id": "bc4ca7b6",
   "metadata": {},
   "outputs": [],
   "source": [
    "lines[0].set_color('#2ca02c')"
   ]
  },
  {
   "cell_type": "code",
   "execution_count": null,
   "id": "866e7075",
   "metadata": {},
   "outputs": [],
   "source": [
    "fig"
   ]
  },
  {
   "cell_type": "code",
   "execution_count": null,
   "id": "d9c47d3e",
   "metadata": {},
   "outputs": [],
   "source": []
  },
  {
   "cell_type": "code",
   "execution_count": null,
   "id": "d93a3b7c",
   "metadata": {
    "scrolled": true
   },
   "outputs": [],
   "source": [
    "x = [1, 2, 3, 4, 5]\n",
    "y = [1, 4, 9, 16, 25]\n",
    "y11 = [2, 5, 10, 17, 26]\n",
    "y2 = [2, 6, 10, 33, 9]\n",
    "fig = plt.figure()\n",
    "axes = []\n",
    "ax1 = fig.add_subplot(111)\n",
    "ax2 = fig.add_subplot(111)\n",
    "ax2.patch.set_alpha(0.0)\n",
    "ax1.set_title('1---') \n",
    "ax2.set_title('2') \n",
    "\n",
    "lines = []\n",
    "lines.append(ax1.plot(x, y, label='y1'))\n",
    "lines.append(ax1.plot(x, y11, label='y11'))\n",
    "lines.append(ax2.plot(x, y2, label='y2'))\n",
    "\n",
    "\n",
    "ax1.lines[1].set_alpha(0.0)\n",
    "ax1.lines[0].set_alpha(0.0)\n",
    "ax1.lines[1].set_alpha(1.0)\n",
    "#ax2.set_visible(False)"
   ]
  },
  {
   "cell_type": "code",
   "execution_count": null,
   "id": "a76222bd",
   "metadata": {},
   "outputs": [],
   "source": []
  }
 ],
 "metadata": {
  "kernelspec": {
   "display_name": "Python 3",
   "language": "python",
   "name": "python3"
  },
  "language_info": {
   "codemirror_mode": {
    "name": "ipython",
    "version": 3
   },
   "file_extension": ".py",
   "mimetype": "text/x-python",
   "name": "python",
   "nbconvert_exporter": "python",
   "pygments_lexer": "ipython3",
   "version": "3.7.9"
  }
 },
 "nbformat": 4,
 "nbformat_minor": 5
}
