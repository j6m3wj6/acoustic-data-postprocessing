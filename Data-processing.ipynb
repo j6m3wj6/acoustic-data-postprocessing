{
 "cells": [
  {
   "cell_type": "code",
   "execution_count": 10,
   "id": "f4e8f446",
   "metadata": {
    "collapsed": true
   },
   "outputs": [
    {
     "data": {
      "text/plain": [
       "'\"SPL Vertical\"\\t\\t\\t\\t\\t\\t\\t\\t\\t\\t\\t\\t\\t\\n\"On-Axis\"\\t\\t\"10簞\"\\t\\t\"20簞\"\\t\\t\"30簞\"\\t\\t\"40簞\"\\t\\t\"50簞\"\\t\\t\"60簞\"\\t\\n\"Frequency [Hz]\"\\t\"Sound Pessure Level [dB]  / [2.83V 1m] \"\\t\"Frequency [Hz]\"\\t\"Sound Pessure Level [dB]  / [2.83V 1m] \"\\t\"Frequency [Hz]\"\\t\"Sound Pessure Level [dB]  / [2.83V 1m] \"\\t\"Frequency [Hz]\"\\t\"Sound Pessure Level [dB]  / [2.83V 1m] \"\\t\"Frequency [Hz]\"\\t\"Sound Pessure Level [dB]  / [2.83V 1m] \"\\t\"Frequency [Hz]\"\\t\"Sound Pessure Level [dB]  / [2.83V 1m] \"\\t\"Frequency [Hz]\"\\t\"Sound Pessure Level [dB]  / [2.83V 1m] \"`\\n500.244\\t75.0499\\t500.244\\t75.2962\\t500.244\\t75.5586\\t500.244\\t75.8155\\t500.244\\t76.0516\\t500.244\\t76.2574\\t500.244\\t76.4279\\n536.133\\t74.7489\\t536.133\\t75.0104\\t536.133\\t75.2853\\t536.133\\t75.5492\\t536.133\\t75.7877\\t536.133\\t75.994\\t536.133\\t76.1671\\n574.219\\t74.61\\t574.219\\t74.9333\\t574.219\\t75.2481\\t574.219\\t75.5312\\t574.219\\t75.7713\\t574.219\\t75.9656\\t574.219\\t76.1163\\n615.234\\t74.5409\\t615.234\\t74.8602\\t615.234\\t75.1681\\t615.234\\t75.4457\\t615.234\\t75.6846\\t615.234\\t75.8842\\t615.234\\t76.0477\\n659.912\\t74.4992\\t659.912\\t74.8123\\t659.912\\t75.1074\\t659.912\\t75.3675\\t659.912\\t75.5873\\t659.912\\t75.7688\\t659.912\\t75.9176\\n706.787\\t73.9207\\t706.787\\t74.3221\\t706.787\\t74.7073\\t706.787\\t75.0485\\t706.787\\t75.3356\\t706.787\\t75.5691\\t706.787\\t75.7553\\n758.057\\t74.0497\\t758.057\\t74.4092\\t758.057\\t74.7296\\t758.057\\t75.0046\\t758.057\\t75.2373\\t758.057\\t75.4349\\t758.057\\t75.604\\n812.256\\t74.0204\\t812.256\\t74.4435\\t812.256\\t74.7844\\t812.256\\t75.0315\\t812.256\\t75.1963\\t812.256\\t75.3014\\t812.256\\t75.3695\\n870.85\\t73.8711\\t870.85\\t74.2687\\t870.85\\t74.5902\\t870.85\\t74.8384\\t870.85\\t75.0322\\t870.85\\t75.1908\\t870.85\\t75.3221\\n933.105\\t73.518\\t933.105\\t73.858\\t933.105\\t74.2095\\t933.105\\t74.5885\\t933.105\\t74.9868\\t933.105\\t75.3753\\t933.105\\t75.7131\\n999.756\\t73.4344\\t999.756\\t74.0784\\t999.756\\t74.658\\t999.756\\t75.109\\t999.756\\t75.4204\\t999.756\\t75.6133\\t999.756\\t75.719\\n1,071.53\\t74.006\\t1,071.53\\t74.6255\\t1,071.53\\t75.0086\\t1,071.53\\t75.261\\t1,071.53\\t75.5058\\t1,071.53\\t75.8208\\t1,071.53\\t76.1894\\n1,148.44\\t74.3516\\t1,148.44\\t74.8654\\t1,148.44\\t75.2707\\t1,148.44\\t75.6302\\t1,148.44\\t75.9967\\t1,148.44\\t76.367\\t1,148.44\\t76.69\\n1,231.2\\t74.2225\\t1,231.2\\t74.7808\\t1,231.2\\t75.2349\\t1,231.2\\t75.6968\\t1,231.2\\t76.23\\t1,231.2\\t76.7935\\t1,231.2\\t77.2812\\n1,319.82\\t73.6028\\t1,319.82\\t74.3326\\t1,319.82\\t75.0745\\t1,319.82\\t75.8846\\t1,319.82\\t76.6605\\t1,319.82\\t77.2756\\t1,319.82\\t77.678\\n1,414.31\\t76.3467\\t1,414.31\\t76.3346\\t1,414.31\\t76.2706\\t1,414.31\\t76.206\\t1,414.31\\t76.2713\\t1,414.31\\t76.5698\\t1,414.31\\t77.0568\\n1,515.38\\t75.4029\\t1,515.38\\t76.1138\\t1,515.38\\t76.9638\\t1,515.38\\t77.7478\\t1,515.38\\t78.2863\\t1,515.38\\t78.5719\\t1,515.38\\t78.7258\\n1,624.51\\t75.2802\\t1,624.51\\t75.6717\\t1,624.51\\t75.9272\\t1,624.51\\t76.4731\\t1,624.51\\t77.436\\t1,624.51\\t78.4764\\t1,624.51\\t79.3547\\n1,740.97\\t74.2176\\t1,740.97\\t74.7206\\t1,740.97\\t75.6207\\t1,740.97\\t76.5189\\t1,740.97\\t77.3685\\t1,740.97\\t78.3741\\t1,740.97\\t79.3236\\n1,866.21\\t74.5829\\t1,866.21\\t75.1531\\t1,866.21\\t75.8786\\t1,866.21\\t76.9809\\t1,866.21\\t78.3562\\t1,866.21\\t79.4222\\t1,866.21\\t79.8942\\n2,000.24\\t74.2206\\t2,000.24\\t74.9804\\t2,000.24\\t76.2451\\t2,000.24\\t78.0595\\t2,000.24\\t79.4074\\t2,000.24\\t79.9166\\t2,000.24\\t79.9897\\n'"
      ]
     },
     "execution_count": 10,
     "metadata": {},
     "output_type": "execute_result"
    }
   ],
   "source": [
    "f = open('short.txt', 'r')\n",
    "f.read()"
   ]
  },
  {
   "cell_type": "code",
   "execution_count": 14,
   "id": "108f68de",
   "metadata": {
    "collapsed": true
   },
   "outputs": [
    {
     "name": "stdout",
     "output_type": "stream",
     "text": [
      "ERROR: can not found qwe.txt\n"
     ]
    }
   ],
   "source": [
    "path = 'qwe.txt'\n",
    "f = None\n",
    "try:\n",
    "    f = open(path, 'r')\n",
    "    for line in f.readlines():\n",
    "        print(line)\n",
    "except IOError:\n",
    "    print('ERROR: can not found ' + path)\n",
    "    if f:\n",
    "        f.close()\n",
    "finally:\n",
    "    if f:\n",
    "        f.close()"
   ]
  },
  {
   "cell_type": "code",
   "execution_count": 7,
   "id": "7bc4fd24",
   "metadata": {
    "collapsed": true
   },
   "outputs": [
    {
     "name": "stdout",
     "output_type": "stream",
     "text": [
      "\"SPL Vertical\"\t\t\t\t\t\t\t\t\t\t\t\t\t\n",
      "\n",
      "\"On-Axis\"\t\t\"10簞\"\t\t\"20簞\"\t\t\"30簞\"\t\t\"40簞\"\t\t\"50簞\"\t\t\"60簞\"\t\n",
      "\n",
      "\"Frequency [Hz]\"\t\"Sound Pessure Level [dB]  / [2.83V 1m] \"\t\"Frequency [Hz]\"\t\"Sound Pessure Level [dB]  / [2.83V 1m] \"\t\"Frequency [Hz]\"\t\"Sound Pessure Level [dB]  / [2.83V 1m] \"\t\"Frequency [Hz]\"\t\"Sound Pessure Level [dB]  / [2.83V 1m] \"\t\"Frequency [Hz]\"\t\"Sound Pessure Level [dB]  / [2.83V 1m] \"\t\"Frequency [Hz]\"\t\"Sound Pessure Level [dB]  / [2.83V 1m] \"\t\"Frequency [Hz]\"\t\"Sound Pessure Level [dB]  / [2.83V 1m] \"`\n",
      "\n",
      "500.244\t75.0499\t500.244\t75.2962\t500.244\t75.5586\t500.244\t75.8155\t500.244\t76.0516\t500.244\t76.2574\t500.244\t76.4279\n",
      "\n",
      "536.133\t74.7489\t536.133\t75.0104\t536.133\t75.2853\t536.133\t75.5492\t536.133\t75.7877\t536.133\t75.994\t536.133\t76.1671\n",
      "\n",
      "574.219\t74.61\t574.219\t74.9333\t574.219\t75.2481\t574.219\t75.5312\t574.219\t75.7713\t574.219\t75.9656\t574.219\t76.1163\n",
      "\n",
      "615.234\t74.5409\t615.234\t74.8602\t615.234\t75.1681\t615.234\t75.4457\t615.234\t75.6846\t615.234\t75.8842\t615.234\t76.0477\n",
      "\n",
      "659.912\t74.4992\t659.912\t74.8123\t659.912\t75.1074\t659.912\t75.3675\t659.912\t75.5873\t659.912\t75.7688\t659.912\t75.9176\n",
      "\n",
      "706.787\t73.9207\t706.787\t74.3221\t706.787\t74.7073\t706.787\t75.0485\t706.787\t75.3356\t706.787\t75.5691\t706.787\t75.7553\n",
      "\n",
      "758.057\t74.0497\t758.057\t74.4092\t758.057\t74.7296\t758.057\t75.0046\t758.057\t75.2373\t758.057\t75.4349\t758.057\t75.604\n",
      "\n",
      "812.256\t74.0204\t812.256\t74.4435\t812.256\t74.7844\t812.256\t75.0315\t812.256\t75.1963\t812.256\t75.3014\t812.256\t75.3695\n",
      "\n",
      "870.85\t73.8711\t870.85\t74.2687\t870.85\t74.5902\t870.85\t74.8384\t870.85\t75.0322\t870.85\t75.1908\t870.85\t75.3221\n",
      "\n",
      "933.105\t73.518\t933.105\t73.858\t933.105\t74.2095\t933.105\t74.5885\t933.105\t74.9868\t933.105\t75.3753\t933.105\t75.7131\n",
      "\n",
      "999.756\t73.4344\t999.756\t74.0784\t999.756\t74.658\t999.756\t75.109\t999.756\t75.4204\t999.756\t75.6133\t999.756\t75.719\n",
      "\n",
      "1,071.53\t74.006\t1,071.53\t74.6255\t1,071.53\t75.0086\t1,071.53\t75.261\t1,071.53\t75.5058\t1,071.53\t75.8208\t1,071.53\t76.1894\n",
      "\n",
      "1,148.44\t74.3516\t1,148.44\t74.8654\t1,148.44\t75.2707\t1,148.44\t75.6302\t1,148.44\t75.9967\t1,148.44\t76.367\t1,148.44\t76.69\n",
      "\n",
      "1,231.2\t74.2225\t1,231.2\t74.7808\t1,231.2\t75.2349\t1,231.2\t75.6968\t1,231.2\t76.23\t1,231.2\t76.7935\t1,231.2\t77.2812\n",
      "\n",
      "1,319.82\t73.6028\t1,319.82\t74.3326\t1,319.82\t75.0745\t1,319.82\t75.8846\t1,319.82\t76.6605\t1,319.82\t77.2756\t1,319.82\t77.678\n",
      "\n",
      "1,414.31\t76.3467\t1,414.31\t76.3346\t1,414.31\t76.2706\t1,414.31\t76.206\t1,414.31\t76.2713\t1,414.31\t76.5698\t1,414.31\t77.0568\n",
      "\n",
      "1,515.38\t75.4029\t1,515.38\t76.1138\t1,515.38\t76.9638\t1,515.38\t77.7478\t1,515.38\t78.2863\t1,515.38\t78.5719\t1,515.38\t78.7258\n",
      "\n",
      "1,624.51\t75.2802\t1,624.51\t75.6717\t1,624.51\t75.9272\t1,624.51\t76.4731\t1,624.51\t77.436\t1,624.51\t78.4764\t1,624.51\t79.3547\n",
      "\n",
      "1,740.97\t74.2176\t1,740.97\t74.7206\t1,740.97\t75.6207\t1,740.97\t76.5189\t1,740.97\t77.3685\t1,740.97\t78.3741\t1,740.97\t79.3236\n",
      "\n",
      "1,866.21\t74.5829\t1,866.21\t75.1531\t1,866.21\t75.8786\t1,866.21\t76.9809\t1,866.21\t78.3562\t1,866.21\t79.4222\t1,866.21\t79.8942\n",
      "\n",
      "2,000.24\t74.2206\t2,000.24\t74.9804\t2,000.24\t76.2451\t2,000.24\t78.0595\t2,000.24\t79.4074\t2,000.24\t79.9166\t2,000.24\t79.9897\n",
      "\n"
     ]
    }
   ],
   "source": [
    "path = 'short.txt'\n",
    "with open(path) as f:\n",
    "    for line in f.readlines():\n",
    "        print(line)\n",
    "rows = len(lines)"
   ]
  },
  {
   "cell_type": "code",
   "execution_count": null,
   "id": "51221228",
   "metadata": {},
   "outputs": [],
   "source": []
  },
  {
   "cell_type": "code",
   "execution_count": 70,
   "id": "d4efdf37",
   "metadata": {
    "collapsed": true
   },
   "outputs": [
    {
     "name": "stdout",
     "output_type": "stream",
     "text": [
      "[['933.105' '73.518' '933.105' '73.858' '933.105' '74.2095' '933.105'\n",
      "  '74.5885' '933.105' '74.9868' '933.105' '75.3753' '933.105' '75.7131']\n",
      " ['999.756' '73.4344' '999.756' '74.0784' '999.756' '74.658' '999.756'\n",
      "  '75.109' '999.756' '75.4204' '999.756' '75.6133' '999.756' '75.719']\n",
      " ['1071.53' '74.006' '1071.53' '74.6255' '1071.53' '75.0086' '1071.53'\n",
      "  '75.261' '1071.53' '75.5058' '1071.53' '75.8208' '1071.53' '76.1894']\n",
      " ['1148.44' '74.3516' '1148.44' '74.8654' '1148.44' '75.2707' '1148.44'\n",
      "  '75.6302' '1148.44' '75.9967' '1148.44' '76.367' '1148.44' '76.69']\n",
      " ['1231.2' '74.2225' '1231.2' '74.7808' '1231.2' '75.2349' '1231.2'\n",
      "  '75.6968' '1231.2' '76.23' '1231.2' '76.7935' '1231.2' '77.2812']]\n"
     ]
    },
    {
     "data": {
      "text/plain": [
       "'\\nfor i in range(len(lines)):\\n    if (i<2):\\n        print(lines[i])\\n        \\n'"
      ]
     },
     "execution_count": 70,
     "metadata": {},
     "output_type": "execute_result"
    }
   ],
   "source": [
    "import numpy as np\n",
    "path = 'short.txt'\n",
    "file = open(path, encoding='UTF-8')\n",
    "lines = file.readlines()\n",
    "title = lines[0]\n",
    "curves = lines[1]\n",
    "\n",
    "\n",
    "\n",
    "data = np.loadtxt(path, dtype=str, skiprows=4)\n",
    "data = np.char.replace(data, ',', '')\n",
    "\n",
    "print(data)\n",
    "'''\n",
    "for i in range(len(lines)):\n",
    "    if (i<2):\n",
    "        print(lines[i])\n",
    "        \n",
    "'''\n"
   ]
  },
  {
   "cell_type": "code",
   "execution_count": 58,
   "id": "3de747ff",
   "metadata": {
    "scrolled": true
   },
   "outputs": [
    {
     "data": {
      "text/html": [
       "<div>\n",
       "<style scoped>\n",
       "    .dataframe tbody tr th:only-of-type {\n",
       "        vertical-align: middle;\n",
       "    }\n",
       "\n",
       "    .dataframe tbody tr th {\n",
       "        vertical-align: top;\n",
       "    }\n",
       "\n",
       "    .dataframe thead th {\n",
       "        text-align: right;\n",
       "    }\n",
       "</style>\n",
       "<table border=\"1\" class=\"dataframe\">\n",
       "  <thead>\n",
       "    <tr style=\"text-align: right;\">\n",
       "      <th></th>\n",
       "      <th>Frequency [Hz]</th>\n",
       "      <th>Sound Pessure Level [dB]  / [2.83V 1m]</th>\n",
       "      <th>Frequency [Hz].1</th>\n",
       "      <th>Sound Pessure Level [dB]  / [2.83V 1m] .1</th>\n",
       "      <th>Frequency [Hz].2</th>\n",
       "      <th>Sound Pessure Level [dB]  / [2.83V 1m] .2</th>\n",
       "      <th>Frequency [Hz].3</th>\n",
       "      <th>Sound Pessure Level [dB]  / [2.83V 1m] .3</th>\n",
       "      <th>Frequency [Hz].4</th>\n",
       "      <th>Sound Pessure Level [dB]  / [2.83V 1m] .4</th>\n",
       "      <th>Frequency [Hz].5</th>\n",
       "      <th>Sound Pessure Level [dB]  / [2.83V 1m] .5</th>\n",
       "      <th>Frequency [Hz].6</th>\n",
       "      <th>Sound Pessure Level [dB]  / [2.83V 1m] .6</th>\n",
       "    </tr>\n",
       "  </thead>\n",
       "  <tbody>\n",
       "    <tr>\n",
       "      <th>0</th>\n",
       "      <td>870.85</td>\n",
       "      <td>73.8711</td>\n",
       "      <td>870.85</td>\n",
       "      <td>74.2687</td>\n",
       "      <td>870.85</td>\n",
       "      <td>74.5902</td>\n",
       "      <td>870.85</td>\n",
       "      <td>74.8384</td>\n",
       "      <td>870.85</td>\n",
       "      <td>75.0322</td>\n",
       "      <td>870.85</td>\n",
       "      <td>75.1908</td>\n",
       "      <td>870.85</td>\n",
       "      <td>75.3221</td>\n",
       "    </tr>\n",
       "    <tr>\n",
       "      <th>1</th>\n",
       "      <td>933.105</td>\n",
       "      <td>73.5180</td>\n",
       "      <td>933.105</td>\n",
       "      <td>73.8580</td>\n",
       "      <td>933.105</td>\n",
       "      <td>74.2095</td>\n",
       "      <td>933.105</td>\n",
       "      <td>74.5885</td>\n",
       "      <td>933.105</td>\n",
       "      <td>74.9868</td>\n",
       "      <td>933.105</td>\n",
       "      <td>75.3753</td>\n",
       "      <td>933.105</td>\n",
       "      <td>75.7131</td>\n",
       "    </tr>\n",
       "    <tr>\n",
       "      <th>2</th>\n",
       "      <td>999.756</td>\n",
       "      <td>73.4344</td>\n",
       "      <td>999.756</td>\n",
       "      <td>74.0784</td>\n",
       "      <td>999.756</td>\n",
       "      <td>74.6580</td>\n",
       "      <td>999.756</td>\n",
       "      <td>75.1090</td>\n",
       "      <td>999.756</td>\n",
       "      <td>75.4204</td>\n",
       "      <td>999.756</td>\n",
       "      <td>75.6133</td>\n",
       "      <td>999.756</td>\n",
       "      <td>75.7190</td>\n",
       "    </tr>\n",
       "    <tr>\n",
       "      <th>3</th>\n",
       "      <td>1,071.53</td>\n",
       "      <td>74.0060</td>\n",
       "      <td>1,071.53</td>\n",
       "      <td>74.6255</td>\n",
       "      <td>1,071.53</td>\n",
       "      <td>75.0086</td>\n",
       "      <td>1,071.53</td>\n",
       "      <td>75.2610</td>\n",
       "      <td>1,071.53</td>\n",
       "      <td>75.5058</td>\n",
       "      <td>1,071.53</td>\n",
       "      <td>75.8208</td>\n",
       "      <td>1,071.53</td>\n",
       "      <td>76.1894</td>\n",
       "    </tr>\n",
       "    <tr>\n",
       "      <th>4</th>\n",
       "      <td>1,148.44</td>\n",
       "      <td>74.3516</td>\n",
       "      <td>1,148.44</td>\n",
       "      <td>74.8654</td>\n",
       "      <td>1,148.44</td>\n",
       "      <td>75.2707</td>\n",
       "      <td>1,148.44</td>\n",
       "      <td>75.6302</td>\n",
       "      <td>1,148.44</td>\n",
       "      <td>75.9967</td>\n",
       "      <td>1,148.44</td>\n",
       "      <td>76.3670</td>\n",
       "      <td>1,148.44</td>\n",
       "      <td>76.6900</td>\n",
       "    </tr>\n",
       "    <tr>\n",
       "      <th>5</th>\n",
       "      <td>1,231.2</td>\n",
       "      <td>74.2225</td>\n",
       "      <td>1,231.2</td>\n",
       "      <td>74.7808</td>\n",
       "      <td>1,231.2</td>\n",
       "      <td>75.2349</td>\n",
       "      <td>1,231.2</td>\n",
       "      <td>75.6968</td>\n",
       "      <td>1,231.2</td>\n",
       "      <td>76.2300</td>\n",
       "      <td>1,231.2</td>\n",
       "      <td>76.7935</td>\n",
       "      <td>1,231.2</td>\n",
       "      <td>77.2812</td>\n",
       "    </tr>\n",
       "  </tbody>\n",
       "</table>\n",
       "</div>"
      ],
      "text/plain": [
       "  Frequency [Hz]  Sound Pessure Level [dB]  / [2.83V 1m]  Frequency [Hz].1  \\\n",
       "0         870.85                                  73.8711           870.85   \n",
       "1        933.105                                  73.5180          933.105   \n",
       "2        999.756                                  73.4344          999.756   \n",
       "3       1,071.53                                  74.0060         1,071.53   \n",
       "4       1,148.44                                  74.3516         1,148.44   \n",
       "5        1,231.2                                  74.2225          1,231.2   \n",
       "\n",
       "   Sound Pessure Level [dB]  / [2.83V 1m] .1 Frequency [Hz].2  \\\n",
       "0                                    74.2687           870.85   \n",
       "1                                    73.8580          933.105   \n",
       "2                                    74.0784          999.756   \n",
       "3                                    74.6255         1,071.53   \n",
       "4                                    74.8654         1,148.44   \n",
       "5                                    74.7808          1,231.2   \n",
       "\n",
       "   Sound Pessure Level [dB]  / [2.83V 1m] .2 Frequency [Hz].3  \\\n",
       "0                                    74.5902           870.85   \n",
       "1                                    74.2095          933.105   \n",
       "2                                    74.6580          999.756   \n",
       "3                                    75.0086         1,071.53   \n",
       "4                                    75.2707         1,148.44   \n",
       "5                                    75.2349          1,231.2   \n",
       "\n",
       "   Sound Pessure Level [dB]  / [2.83V 1m] .3 Frequency [Hz].4  \\\n",
       "0                                    74.8384           870.85   \n",
       "1                                    74.5885          933.105   \n",
       "2                                    75.1090          999.756   \n",
       "3                                    75.2610         1,071.53   \n",
       "4                                    75.6302         1,148.44   \n",
       "5                                    75.6968          1,231.2   \n",
       "\n",
       "   Sound Pessure Level [dB]  / [2.83V 1m] .4 Frequency [Hz].5  \\\n",
       "0                                    75.0322           870.85   \n",
       "1                                    74.9868          933.105   \n",
       "2                                    75.4204          999.756   \n",
       "3                                    75.5058         1,071.53   \n",
       "4                                    75.9967         1,148.44   \n",
       "5                                    76.2300          1,231.2   \n",
       "\n",
       "   Sound Pessure Level [dB]  / [2.83V 1m] .5 Frequency [Hz].6  \\\n",
       "0                                    75.1908           870.85   \n",
       "1                                    75.3753          933.105   \n",
       "2                                    75.6133          999.756   \n",
       "3                                    75.8208         1,071.53   \n",
       "4                                    76.3670         1,148.44   \n",
       "5                                    76.7935          1,231.2   \n",
       "\n",
       "   Sound Pessure Level [dB]  / [2.83V 1m] .6  \n",
       "0                                    75.3221  \n",
       "1                                    75.7131  \n",
       "2                                    75.7190  \n",
       "3                                    76.1894  \n",
       "4                                    76.6900  \n",
       "5                                    77.2812  "
      ]
     },
     "execution_count": 58,
     "metadata": {},
     "output_type": "execute_result"
    }
   ],
   "source": [
    "import pandas as pd\n",
    "path = 'short.txt'\n",
    "# pd.read_table(path)\n",
    "pd.read_table(path,  header = 2)"
   ]
  },
  {
   "cell_type": "code",
   "execution_count": 90,
   "id": "6b82b9cd",
   "metadata": {},
   "outputs": [
    {
     "ename": "AttributeError",
     "evalue": "'DataFrame' object has no attribute 'icol'",
     "output_type": "error",
     "traceback": [
      "\u001b[1;31m---------------------------------------------------------------------------\u001b[0m",
      "\u001b[1;31mAttributeError\u001b[0m                            Traceback (most recent call last)",
      "\u001b[1;32m<ipython-input-90-a1613e978072>\u001b[0m in \u001b[0;36m<module>\u001b[1;34m\u001b[0m\n\u001b[0;32m      2\u001b[0m \u001b[0mpath\u001b[0m \u001b[1;33m=\u001b[0m \u001b[1;34m'short.txt'\u001b[0m\u001b[1;33m\u001b[0m\u001b[1;33m\u001b[0m\u001b[0m\n\u001b[0;32m      3\u001b[0m \u001b[0mtbl\u001b[0m \u001b[1;33m=\u001b[0m \u001b[0mpd\u001b[0m\u001b[1;33m.\u001b[0m\u001b[0mread_table\u001b[0m\u001b[1;33m(\u001b[0m\u001b[0mpath\u001b[0m\u001b[1;33m)\u001b[0m\u001b[1;33m\u001b[0m\u001b[1;33m\u001b[0m\u001b[0m\n\u001b[1;32m----> 4\u001b[1;33m \u001b[0mtbl\u001b[0m\u001b[1;33m.\u001b[0m\u001b[0micol\u001b[0m\u001b[1;33m[\u001b[0m\u001b[1;36m4\u001b[0m\u001b[1;33m]\u001b[0m\u001b[1;33m\u001b[0m\u001b[1;33m\u001b[0m\u001b[0m\n\u001b[0m",
      "\u001b[1;32mc:\\users\\tong.wang\\appdata\\local\\programs\\python\\python37\\lib\\site-packages\\pandas\\core\\generic.py\u001b[0m in \u001b[0;36m__getattr__\u001b[1;34m(self, name)\u001b[0m\n\u001b[0;32m   5463\u001b[0m             \u001b[1;32mif\u001b[0m \u001b[0mself\u001b[0m\u001b[1;33m.\u001b[0m\u001b[0m_info_axis\u001b[0m\u001b[1;33m.\u001b[0m\u001b[0m_can_hold_identifiers_and_holds_name\u001b[0m\u001b[1;33m(\u001b[0m\u001b[0mname\u001b[0m\u001b[1;33m)\u001b[0m\u001b[1;33m:\u001b[0m\u001b[1;33m\u001b[0m\u001b[1;33m\u001b[0m\u001b[0m\n\u001b[0;32m   5464\u001b[0m                 \u001b[1;32mreturn\u001b[0m \u001b[0mself\u001b[0m\u001b[1;33m[\u001b[0m\u001b[0mname\u001b[0m\u001b[1;33m]\u001b[0m\u001b[1;33m\u001b[0m\u001b[1;33m\u001b[0m\u001b[0m\n\u001b[1;32m-> 5465\u001b[1;33m             \u001b[1;32mreturn\u001b[0m \u001b[0mobject\u001b[0m\u001b[1;33m.\u001b[0m\u001b[0m__getattribute__\u001b[0m\u001b[1;33m(\u001b[0m\u001b[0mself\u001b[0m\u001b[1;33m,\u001b[0m \u001b[0mname\u001b[0m\u001b[1;33m)\u001b[0m\u001b[1;33m\u001b[0m\u001b[1;33m\u001b[0m\u001b[0m\n\u001b[0m\u001b[0;32m   5466\u001b[0m \u001b[1;33m\u001b[0m\u001b[0m\n\u001b[0;32m   5467\u001b[0m     \u001b[1;32mdef\u001b[0m \u001b[0m__setattr__\u001b[0m\u001b[1;33m(\u001b[0m\u001b[0mself\u001b[0m\u001b[1;33m,\u001b[0m \u001b[0mname\u001b[0m\u001b[1;33m:\u001b[0m \u001b[0mstr\u001b[0m\u001b[1;33m,\u001b[0m \u001b[0mvalue\u001b[0m\u001b[1;33m)\u001b[0m \u001b[1;33m->\u001b[0m \u001b[1;32mNone\u001b[0m\u001b[1;33m:\u001b[0m\u001b[1;33m\u001b[0m\u001b[1;33m\u001b[0m\u001b[0m\n",
      "\u001b[1;31mAttributeError\u001b[0m: 'DataFrame' object has no attribute 'icol'"
     ]
    }
   ],
   "source": [
    "import pandas as pd\n",
    "path = 'short.txt'\n",
    "tbl = pd.read_table(path)\n",
    "tbl.icol[4]"
   ]
  },
  {
   "cell_type": "code",
   "execution_count": 135,
   "id": "680fe813",
   "metadata": {
    "scrolled": false
   },
   "outputs": [
    {
     "name": "stdout",
     "output_type": "stream",
     "text": [
      "\"SPL Vertical\"\t\t\t\t\t\t\t\t\t\t\t\t\t\n",
      " ['On-Axis', '10°', '20°', '30°', '40°', '50°', '60°']\n"
     ]
    },
    {
     "data": {
      "text/plain": [
       "<AxesSubplot:xlabel='Frequency'>"
      ]
     },
     "execution_count": 135,
     "metadata": {},
     "output_type": "execute_result"
    },
    {
     "data": {
      "image/png": "[encoded data removed]",
      "text/plain": [
       "<Figure size 432x288 with 1 Axes>"
      ]
     },
     "metadata": {
      "needs_background": "light"
     },
     "output_type": "display_data"
    }
   ],
   "source": [
    "import numpy as np\n",
    "import pandas as pd\n",
    "\n",
    "path = 'bose.txt'\n",
    "file = open(path, encoding='UTF-8')\n",
    "headers = file.readlines()[:3]\n",
    "title = headers[0]\n",
    "curves = headers[1].split('\\t\\t')\n",
    "# modify every element in an array\n",
    "curves = [c.replace('\"', '').strip() for c in curves]\n",
    "# curves.insert(0, \"Frequency\")\n",
    "print(title, curves)\n",
    "dtbl = pd.read_table(path,  skiprows=2)\n",
    "freq = dtbl.iloc[:, 0]\n",
    "dtbl = dtbl.iloc[:, [i%2==1 for i in range(len(dtbl.columns))]]\n",
    "dtbl.columns = curves\n",
    "dtbl['Frequency'] = freq\n",
    "\n",
    "dtbl.plot(x = \"Frequency\")"
   ]
  },
  {
   "cell_type": "code",
   "execution_count": 139,
   "id": "6458e5b3",
   "metadata": {},
   "outputs": [
    {
     "data": {
      "text/plain": [
       "5"
      ]
     },
     "execution_count": 139,
     "metadata": {},
     "output_type": "execute_result"
    },
    {
     "data": {
      "image/png": "[encoded data removed]",
      "text/plain": [
       "<Figure size 432x288 with 1 Axes>"
      ]
     },
     "metadata": {
      "needs_background": "light"
     },
     "output_type": "display_data"
    }
   ],
   "source": [
    "import matplotlib.pyplot as plt\n",
    "fig, ax = plt.subplots()\n",
    "ax.plot(np.random.rand(10))\n",
    "\n",
    "def onclick(event):\n",
    "    print('%s click: button=%d, x=%d, y=%d, xdata=%f, ydata=%f' %\n",
    "          ('double' if event.dblclick else 'single', event.button,\n",
    "           event.x, event.y, event.xdata, event.ydata))\n",
    "\n",
    "cid = fig.canvas.mpl_connect('button_press_event', onclick)\n"
   ]
  },
  {
   "cell_type": "code",
   "execution_count": 5,
   "id": "4ea70198",
   "metadata": {},
   "outputs": [
    {
     "ename": "ValueError",
     "evalue": "could not convert string to float: 'test'",
     "output_type": "error",
     "traceback": [
      "\u001b[1;31m---------------------------------------------------------------------------\u001b[0m",
      "\u001b[1;31mValueError\u001b[0m                                Traceback (most recent call last)",
      "\u001b[1;32m<ipython-input-5-649d1a26982d>\u001b[0m in \u001b[0;36m<module>\u001b[1;34m\u001b[0m\n\u001b[0;32m      1\u001b[0m \u001b[0minputText\u001b[0m \u001b[1;33m=\u001b[0m \u001b[1;34m'test'\u001b[0m\u001b[1;33m\u001b[0m\u001b[1;33m\u001b[0m\u001b[0m\n\u001b[0;32m      2\u001b[0m \u001b[1;31m# try:\u001b[0m\u001b[1;33m\u001b[0m\u001b[1;33m\u001b[0m\u001b[1;33m\u001b[0m\u001b[0m\n\u001b[1;32m----> 3\u001b[1;33m \u001b[0moffset\u001b[0m \u001b[1;33m=\u001b[0m \u001b[0mfloat\u001b[0m\u001b[1;33m(\u001b[0m\u001b[0minputText\u001b[0m\u001b[1;33m)\u001b[0m\u001b[1;33m\u001b[0m\u001b[1;33m\u001b[0m\u001b[0m\n\u001b[0m\u001b[0;32m      4\u001b[0m \u001b[1;31m# except ValueError:\u001b[0m\u001b[1;33m\u001b[0m\u001b[1;33m\u001b[0m\u001b[1;33m\u001b[0m\u001b[0m\n\u001b[0;32m      5\u001b[0m \u001b[1;31m#     print('ERROR: can not turn ' + inputText)\u001b[0m\u001b[1;33m\u001b[0m\u001b[1;33m\u001b[0m\u001b[1;33m\u001b[0m\u001b[0m\n",
      "\u001b[1;31mValueError\u001b[0m: could not convert string to float: 'test'"
     ]
    }
   ],
   "source": [
    "inputText = 'test'\n",
    "try:\n",
    "    offset = float(inputText)\n",
    "except ValueError:\n",
    "    print('ERROR: can not turn ' + inputText)\n",
    "\n"
   ]
  },
  {
   "cell_type": "code",
   "execution_count": 18,
   "id": "2efeea15",
   "metadata": {},
   "outputs": [
    {
     "data": {
      "text/plain": [
       "'python'"
      ]
     },
     "execution_count": 18,
     "metadata": {},
     "output_type": "execute_result"
    }
   ],
   "source": [
    "pwd = '/usr/bin/python.txt'\n",
    "x = pwd.rfind('/')\n",
    "e = pwd.rfind('.')\n",
    "e\n",
    "pwd[x+1:e]"
   ]
  }
 ],
 "metadata": {
  "kernelspec": {
   "display_name": "Python 3",
   "language": "python",
   "name": "python3"
  },
  "language_info": {
   "codemirror_mode": {
    "name": "ipython",
    "version": 3
   },
   "file_extension": ".py",
   "mimetype": "text/x-python",
   "name": "python",
   "nbconvert_exporter": "python",
   "pygments_lexer": "ipython3",
   "version": "3.7.9"
  }
 },
 "nbformat": 4,
 "nbformat_minor": 5
}
