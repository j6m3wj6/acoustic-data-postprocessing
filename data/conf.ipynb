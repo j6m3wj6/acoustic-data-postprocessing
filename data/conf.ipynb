{
 "cells": [
  {
   "cell_type": "code",
   "execution_count": 58,
   "id": "53c97f46",
   "metadata": {
    "code_folding": []
   },
   "outputs": [],
   "source": [
    "import datetime as dt\n",
    "import sys \n",
    "import pickle\n",
    "import dill\n",
    "\n",
    "LEGEND_WRAP=25\n",
    "\n",
    "FIGURE_CONF = {\n",
    "    \"General\": {\n",
    "        \"Title\": \"\",\n",
    "        \"Margin\": {\n",
    "            \"left-right\": 10,\n",
    "            \"top-bottom\": 10,\n",
    "        },\n",
    "        \"Legend\": {\n",
    "            \"visible\": True,\n",
    "            \"text-wrap\": LEGEND_WRAP,\n",
    "            \"newkey\": \"newvalue\"\n",
    "        }\n",
    "    },\n",
    "    \"Axis\": {\n",
    "        \"X-Axis\": {\n",
    "            \"auto-scale\": False,\n",
    "            \"min\": 20,\n",
    "            \"max\": 20000,\n",
    "            \"label\": \"Frequency\",\n",
    "            \"unit\": \"Hz\",\n",
    "            \"scale\": \"log\"\n",
    "        },\n",
    "        \"Y-Axis\": {\n",
    "            \"auto-scale\": True,\n",
    "            \"min\": 0,\n",
    "            \"max\": 100,\n",
    "            \"label\": \"\",\n",
    "            \"unit\": \"dBSPL\",\n",
    "            \"scale\": \"log\"\n",
    "        },\n",
    "        \"Sub_Y-Axis\": {\n",
    "            \"auto-scale\": True,\n",
    "            \"min\": 0,\n",
    "            \"max\": 100,\n",
    "            \"label\": \"\",\n",
    "            \"unit\": \"dBSPL\",\n",
    "            \"scale\": \"log\"\n",
    "        }\n",
    "    }\n",
    "}\n",
    "\n",
    "UI_CONF = {\n",
    "    \"MyCanvas\": {\n",
    "        \"status\": {\n",
    "            \"Main\": [0],\n",
    "        },\n",
    "        \"mode\": \"Main\",\n",
    "        \"canvasPool\": {\n",
    "            \"0\": {\n",
    "                \"id\": 0,\n",
    "                \"types\": [\"SPL\", \"THD\"],\n",
    "                \"parameter\": FIGURE_CONF\n",
    "            },\n",
    "        }\n",
    "    }\n",
    "}"
   ]
  },
  {
   "cell_type": "code",
   "execution_count": 13,
   "id": "26257d16",
   "metadata": {},
   "outputs": [
    {
     "name": "stdout",
     "output_type": "stream",
     "text": [
      "foo f {'general': 0}\n",
      "foo_dict {} {'general': 0}\n",
      "{'foo': 'f', 'foo_dict': {'aaa': 'bbb'}}\n"
     ]
    }
   ],
   "source": [
    "class conf(dict):\n",
    "    def __init__(self):\n",
    "        self.general = 0\n",
    "    def __setitem__(self, key, value):\n",
    "        print(key, value, self.__dict__)\n",
    "        super(conf, self).__setitem__(key, value)\n",
    "        \n",
    "\n",
    "conf_i = conf()\n",
    "conf_i[\"foo\"]=\"f\"\n",
    "conf_i[\"foo_dict\"]={}\n",
    "conf_i[\"foo_dict\"]['aaa']='bbb'\n",
    "\n",
    "print(conf_i)"
   ]
  },
  {
   "cell_type": "code",
   "execution_count": 35,
   "id": "295edc89",
   "metadata": {
    "code_folding": []
   },
   "outputs": [],
   "source": [
    "class Project():\n",
    "    def __init__(self, name=\"Untitled\"):\n",
    "        self.info = {\n",
    "            \"Name\": name,\n",
    "            \"File Location\": sys.path[0],\n",
    "            'Create Time': dt.datetime.today().strftime(\"%Y/%m/%d %H:%M:%S\"),\n",
    "            'Last Saved Time': dt.datetime.today().strftime(\"%Y/%m/%d %H:%M:%S\"),\n",
    "        }\n",
    "        self.files = []\n",
    "        self.ui_conf = UI_CONF\n",
    "    \n",
    "    def print(self):\n",
    "        print(\"\\nProject: =================\")\n",
    "        print(\"Name: %s \\nFile location: %s\" %\n",
    "              (self.info[\"Name\"], self.get_path()))\n",
    "        print(\"Files: \")\n",
    "        for _f in self.files:\n",
    "            _f.print()\n",
    "        print(\"UI conf: \", self.ui_conf)\n",
    "        print(\"============================\\n\") \n",
    "    def get_path(self):\n",
    "#         return self.info['File Location'] + '/' + self.info['Name'] + '.pkl'\n",
    "        return self.info['File Location'] + '/dump.pkl'\n",
    "\n",
    "    def dump(self, location=None):\n",
    "        if not location:\n",
    "            location = self.get_path()\n",
    "        # update curveData\n",
    "\n",
    "        self.print()\n",
    "        try:\n",
    "            with open(location, 'wb') as fh:\n",
    "                self.info[\"Last Saved Time\"] = dt.datetime.today().strftime(\n",
    "                    \"%Y/%m/%d %H:%M:%S\")\n",
    "                pickle.dump(self, fh)\n",
    "        except:\n",
    "            print(dill.detect.baditems(self))\n",
    "\n",
    "    @classmethod\n",
    "    def load_project(cls, location=None):\n",
    "        print(\"unpickled project:\")\n",
    "        print(\"location: \", location)\n",
    "        if location == \"None\":\n",
    "            return Project()\n",
    "        else:\n",
    "            try:\n",
    "                fh = open(location, 'rb')\n",
    "                # with open(f\"%s.pkl\" % (location), 'rb') as fh:\n",
    "                unpickled_project = pickle.load(fh)\n",
    "                if location is not unpickled_project.info[\"File Location\"]:\n",
    "                    print(\n",
    "                        \"WARNING: File location not the same --> change project info.\")\n",
    "                    unpickled_project.info[\"File Location\"] = location\n",
    "                unpickled_project.print()\n",
    "                print(\"____________finish obj_data.Project.load_project()\")\n",
    "                fh.close()\n",
    "                return unpickled_project\n",
    "            except Exception as e:\n",
    "                return Project()\n"
   ]
  },
  {
   "cell_type": "code",
   "execution_count": 60,
   "id": "fa4dd662",
   "metadata": {},
   "outputs": [
    {
     "name": "stdout",
     "output_type": "stream",
     "text": [
      "\n",
      "Project: =================\n",
      "Name: Untitled \n",
      "File location: C:\\Users\\tong.wang\\桌面\\SAE_PlotTool\\SAE_PlotTool\\data/dump.pkl\n",
      "Files: \n",
      "UI conf:  {'MyCanvas': {'status': {'Main': [0]}, 'mode': 'Main', 'canvasPool': {'0': {'id': 0, 'types': ['SPL', 'THD'], 'parameter': {'General': {'Title': '', 'Margin': {'left-right': 10, 'top-bottom': 10}, 'Legend': {'visible': True, 'text-wrap': 25, 'newkey': 'newvalue'}}, 'Axis': {'X-Axis': {'auto-scale': False, 'min': 20, 'max': 20000, 'label': 'Frequency', 'unit': 'Hz', 'scale': 'log'}, 'Y-Axis': {'auto-scale': True, 'min': 0, 'max': 100, 'label': '', 'unit': 'dBSPL', 'scale': 'log'}, 'Sub_Y-Axis': {'auto-scale': True, 'min': 0, 'max': 100, 'label': '', 'unit': 'dBSPL', 'scale': 'log'}}}}}}}\n",
      "============================\n",
      "\n",
      "\n",
      "Project: =================\n",
      "Name: Untitled \n",
      "File location: C:\\Users\\tong.wang\\桌面\\SAE_PlotTool\\SAE_PlotTool\\data/dump.pkl\n",
      "Files: \n",
      "UI conf:  {'MyCanvas': {'status': {'Main': [0]}, 'mode': 'Main', 'canvasPool': {'0': {'id': 0, 'types': ['SPL', 'THD'], 'parameter': {'General': {'Title': '', 'Margin': {'left-right': 10, 'top-bottom': 10}, 'Legend': {'visible': True, 'text-wrap': 25, 'newkey': 'newvalue'}}, 'Axis': {'X-Axis': {'auto-scale': False, 'min': 20, 'max': 20000, 'label': 'Frequency', 'unit': 'Hz', 'scale': 'log'}, 'Y-Axis': {'auto-scale': True, 'min': 0, 'max': 100, 'label': '', 'unit': 'dBSPL', 'scale': 'log'}, 'Sub_Y-Axis': {'auto-scale': True, 'min': 0, 'max': 100, 'label': '', 'unit': 'dBSPL', 'scale': 'log'}}}}}}}\n",
      "============================\n",
      "\n"
     ]
    },
    {
     "data": {
      "text/plain": [
       "dict_keys(['info', 'files', 'ui_conf'])"
      ]
     },
     "execution_count": 60,
     "metadata": {},
     "output_type": "execute_result"
    }
   ],
   "source": [
    "pj = Project()\n",
    "pj.print()\n",
    "# pj.info[\"File Location\"] = \"C:\\\\Users\\\\tong.wang\\\\桌面\\\\SAE_PlotTool\\\\SAE_PlotTool\\\\data\"\n",
    "pj.dump()\n",
    "pj.__dict__.keys()"
   ]
  },
  {
   "cell_type": "code",
   "execution_count": 59,
   "id": "8769f3d4",
   "metadata": {},
   "outputs": [
    {
     "name": "stdout",
     "output_type": "stream",
     "text": [
      "unpickled project:\n",
      "location:  C:\\Users\\tong.wang\\桌面\\SAE_PlotTool\\SAE_PlotTool\\data\\dump.pkl\n",
      "WARNING: File location not the same --> change project info.\n",
      "\n",
      "Project: =================\n",
      "Name: Untitled \n",
      "File location: C:\\Users\\tong.wang\\桌面\\SAE_PlotTool\\SAE_PlotTool\\data\\dump.pkl/dump.pkl\n",
      "Files: \n",
      "UI conf:  {'MyCanvas': {'status': {'Main': [0]}, 'mode': 'Main', 'canvasPool': {'0': {'id': 0, 'types': ['SPL', 'THD'], 'parameter': {'General': {'Title': '', 'Margin': {'left-right': 10, 'top-bottom': 10}, 'Legend': {'visible': True, 'text-wrap': 25}}, 'Axis': {'X-Axis': {'auto-scale': False, 'min': 20, 'max': 20000, 'label': 'Frequency', 'unit': 'Hz', 'scale': 'log'}, 'Y-Axis': {'auto-scale': True, 'min': 0, 'max': 100, 'label': '', 'unit': 'dBSPL', 'scale': 'log'}, 'Sub_Y-Axis': {'auto-scale': True, 'min': 0, 'max': 100, 'label': '', 'unit': 'dBSPL', 'scale': 'log'}}}}}}}\n",
      "============================\n",
      "\n",
      "____________finish obj_data.Project.load_project()\n"
     ]
    },
    {
     "data": {
      "text/plain": [
       "False"
      ]
     },
     "execution_count": 59,
     "metadata": {},
     "output_type": "execute_result"
    }
   ],
   "source": [
    "load_pj = Project.load_project('C:\\\\Users\\\\tong.wang\\\\桌面\\\\SAE_PlotTool\\\\SAE_PlotTool\\\\data\\\\dump.pkl')\n",
    "load_ui_conf= load_pj.ui_conf[\"MyCanvas\"]['canvasPool']['0']['parameter']\n",
    "load_ui_conf == FIGURE_CONF"
   ]
  }
 ],
 "metadata": {
  "kernelspec": {
   "display_name": "Python 3",
   "language": "python",
   "name": "python3"
  },
  "language_info": {
   "codemirror_mode": {
    "name": "ipython",
    "version": 3
   },
   "file_extension": ".py",
   "mimetype": "text/x-python",
   "name": "python",
   "nbconvert_exporter": "python",
   "pygments_lexer": "ipython3",
   "version": "3.7.9"
  }
 },
 "nbformat": 4,
 "nbformat_minor": 5
}
