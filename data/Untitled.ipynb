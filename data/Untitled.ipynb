{
 "cells": [
  {
   "cell_type": "code",
   "execution_count": 1,
   "id": "10c0ff75",
   "metadata": {},
   "outputs": [],
   "source": [
    "import matplotlib.pyplot  as plt\n",
    "import numpy as np"
   ]
  },
  {
   "cell_type": "code",
   "execution_count": 59,
   "id": "5677c8e7",
   "metadata": {},
   "outputs": [
    {
     "name": "stderr",
     "output_type": "stream",
     "text": [
      "c:\\users\\tong.wang\\appdata\\local\\programs\\python\\python37\\lib\\site-packages\\ipykernel_launcher.py:9: UserWarning: FixedFormatter should only be used together with FixedLocator\n",
      "  if __name__ == '__main__':\n",
      "No handles with labels found to put in legend.\n"
     ]
    },
    {
     "name": "stdout",
     "output_type": "stream",
     "text": [
      "4\n"
     ]
    },
    {
     "data": {
      "text/plain": [
       "<matplotlib.legend.Legend at 0x2580c54d088>"
      ]
     },
     "execution_count": 59,
     "metadata": {},
     "output_type": "execute_result"
    },
    {
     "data": {
      "image/png": "[encoded data removed]",
      "text/plain": [
       "<Figure size 432x288 with 2 Axes>"
      ]
     },
     "metadata": {
      "needs_background": "light"
     },
     "output_type": "display_data"
    }
   ],
   "source": [
    "fig, ax = plt.subplots(1, 2)\n",
    "y = [4.69024804e+01, 7.05631565e+01, 8.66744645e+01, 2.00570205e+01]\n",
    "print(len(y))\n",
    "# x-axis values \n",
    "x = [1,2,3,4] \n",
    "y2 = [1,2,3,4] \n",
    "\n",
    "ax[0].plot(x, y)\n",
    "ax[0].set_yticklabels(['{:.0f}%'.format(x) for x in plt.gca().get_yticks()]) \n",
    "ax[0].legend()"
   ]
  },
  {
   "cell_type": "code",
   "execution_count": 55,
   "id": "e7dcb327",
   "metadata": {},
   "outputs": [],
   "source": [
    "import matplotlib as mpl\n",
    "from matplotlib import rcParams\n",
    "\n",
    "rcParams.update({'lines.linewidth': 2})\n",
    "\n",
    "fig.canvas.draw()"
   ]
  },
  {
   "cell_type": "code",
   "execution_count": 12,
   "id": "9b6a3cca",
   "metadata": {},
   "outputs": [
    {
     "data": {
      "text/plain": [
       "'Sound Pessure Level [dB  / [2.83V 1m'"
      ]
     },
     "execution_count": 12,
     "metadata": {},
     "output_type": "execute_result"
    }
   ],
   "source": [
    "unit = 'Sound Pessure Level [dB]  / [2.83V 1m]'\n",
    "unit[unit.find('['):unit.rfind(']')+1]\n",
    "unit.replace(']', '')"
   ]
  },
  {
   "cell_type": "code",
   "execution_count": 12,
   "id": "bf413bad",
   "metadata": {},
   "outputs": [
    {
     "name": "stdout",
     "output_type": "stream",
     "text": [
      "dict_keys(['a', 'b'])\n",
      "dict_keys(['a', 'c'])\n",
      "['b'] ['c']\n",
      "['b', 'c']\n"
     ]
    }
   ],
   "source": [
    "class cls1():\n",
    "    def __init__(self):\n",
    "        self.a = 'a'\n",
    "        self.b = 'b'\n",
    "class cls2():\n",
    "    def __init__(self):\n",
    "        self.a = 'a'\n",
    "        self.c = 'c'\n",
    "\n",
    "c1 = cls1()\n",
    "c2 = cls2()\n",
    "print(c1.__dict__.keys())\n",
    "print(c2.__dict__.keys())\n",
    "c1.__dict__.keys() == c2.__dict__.keys()\n",
    "c12=list(c1.__dict__.keys() - c2.__dict__.keys())\n",
    "c21=list(c2.__dict__.keys() - c1.__dict__.keys())\n",
    "print(c12, c21)\n",
    "print(c12+c21)\n"
   ]
  }
 ],
 "metadata": {
  "kernelspec": {
   "display_name": "Python 3",
   "language": "python",
   "name": "python3"
  },
  "language_info": {
   "codemirror_mode": {
    "name": "ipython",
    "version": 3
   },
   "file_extension": ".py",
   "mimetype": "text/x-python",
   "name": "python",
   "nbconvert_exporter": "python",
   "pygments_lexer": "ipython3",
   "version": "3.7.9"
  }
 },
 "nbformat": 4,
 "nbformat_minor": 5
}
