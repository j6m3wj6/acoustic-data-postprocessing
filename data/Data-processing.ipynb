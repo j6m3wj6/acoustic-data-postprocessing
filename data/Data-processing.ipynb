{
 "cells": [
  {
   "cell_type": "code",
   "execution_count": 10,
   "id": "f4e8f446",
   "metadata": {
    "collapsed": true
   },
   "outputs": [
    {
     "data": {
      "text/plain": [
       "'\"SPL Vertical\"\\t\\t\\t\\t\\t\\t\\t\\t\\t\\t\\t\\t\\t\\n\"On-Axis\"\\t\\t\"10簞\"\\t\\t\"20簞\"\\t\\t\"30簞\"\\t\\t\"40簞\"\\t\\t\"50簞\"\\t\\t\"60簞\"\\t\\n\"Frequency [Hz]\"\\t\"Sound Pessure Level [dB]  / [2.83V 1m] \"\\t\"Frequency [Hz]\"\\t\"Sound Pessure Level [dB]  / [2.83V 1m] \"\\t\"Frequency [Hz]\"\\t\"Sound Pessure Level [dB]  / [2.83V 1m] \"\\t\"Frequency [Hz]\"\\t\"Sound Pessure Level [dB]  / [2.83V 1m] \"\\t\"Frequency [Hz]\"\\t\"Sound Pessure Level [dB]  / [2.83V 1m] \"\\t\"Frequency [Hz]\"\\t\"Sound Pessure Level [dB]  / [2.83V 1m] \"\\t\"Frequency [Hz]\"\\t\"Sound Pessure Level [dB]  / [2.83V 1m] \"`\\n500.244\\t75.0499\\t500.244\\t75.2962\\t500.244\\t75.5586\\t500.244\\t75.8155\\t500.244\\t76.0516\\t500.244\\t76.2574\\t500.244\\t76.4279\\n536.133\\t74.7489\\t536.133\\t75.0104\\t536.133\\t75.2853\\t536.133\\t75.5492\\t536.133\\t75.7877\\t536.133\\t75.994\\t536.133\\t76.1671\\n574.219\\t74.61\\t574.219\\t74.9333\\t574.219\\t75.2481\\t574.219\\t75.5312\\t574.219\\t75.7713\\t574.219\\t75.9656\\t574.219\\t76.1163\\n615.234\\t74.5409\\t615.234\\t74.8602\\t615.234\\t75.1681\\t615.234\\t75.4457\\t615.234\\t75.6846\\t615.234\\t75.8842\\t615.234\\t76.0477\\n659.912\\t74.4992\\t659.912\\t74.8123\\t659.912\\t75.1074\\t659.912\\t75.3675\\t659.912\\t75.5873\\t659.912\\t75.7688\\t659.912\\t75.9176\\n706.787\\t73.9207\\t706.787\\t74.3221\\t706.787\\t74.7073\\t706.787\\t75.0485\\t706.787\\t75.3356\\t706.787\\t75.5691\\t706.787\\t75.7553\\n758.057\\t74.0497\\t758.057\\t74.4092\\t758.057\\t74.7296\\t758.057\\t75.0046\\t758.057\\t75.2373\\t758.057\\t75.4349\\t758.057\\t75.604\\n812.256\\t74.0204\\t812.256\\t74.4435\\t812.256\\t74.7844\\t812.256\\t75.0315\\t812.256\\t75.1963\\t812.256\\t75.3014\\t812.256\\t75.3695\\n870.85\\t73.8711\\t870.85\\t74.2687\\t870.85\\t74.5902\\t870.85\\t74.8384\\t870.85\\t75.0322\\t870.85\\t75.1908\\t870.85\\t75.3221\\n933.105\\t73.518\\t933.105\\t73.858\\t933.105\\t74.2095\\t933.105\\t74.5885\\t933.105\\t74.9868\\t933.105\\t75.3753\\t933.105\\t75.7131\\n999.756\\t73.4344\\t999.756\\t74.0784\\t999.756\\t74.658\\t999.756\\t75.109\\t999.756\\t75.4204\\t999.756\\t75.6133\\t999.756\\t75.719\\n1,071.53\\t74.006\\t1,071.53\\t74.6255\\t1,071.53\\t75.0086\\t1,071.53\\t75.261\\t1,071.53\\t75.5058\\t1,071.53\\t75.8208\\t1,071.53\\t76.1894\\n1,148.44\\t74.3516\\t1,148.44\\t74.8654\\t1,148.44\\t75.2707\\t1,148.44\\t75.6302\\t1,148.44\\t75.9967\\t1,148.44\\t76.367\\t1,148.44\\t76.69\\n1,231.2\\t74.2225\\t1,231.2\\t74.7808\\t1,231.2\\t75.2349\\t1,231.2\\t75.6968\\t1,231.2\\t76.23\\t1,231.2\\t76.7935\\t1,231.2\\t77.2812\\n1,319.82\\t73.6028\\t1,319.82\\t74.3326\\t1,319.82\\t75.0745\\t1,319.82\\t75.8846\\t1,319.82\\t76.6605\\t1,319.82\\t77.2756\\t1,319.82\\t77.678\\n1,414.31\\t76.3467\\t1,414.31\\t76.3346\\t1,414.31\\t76.2706\\t1,414.31\\t76.206\\t1,414.31\\t76.2713\\t1,414.31\\t76.5698\\t1,414.31\\t77.0568\\n1,515.38\\t75.4029\\t1,515.38\\t76.1138\\t1,515.38\\t76.9638\\t1,515.38\\t77.7478\\t1,515.38\\t78.2863\\t1,515.38\\t78.5719\\t1,515.38\\t78.7258\\n1,624.51\\t75.2802\\t1,624.51\\t75.6717\\t1,624.51\\t75.9272\\t1,624.51\\t76.4731\\t1,624.51\\t77.436\\t1,624.51\\t78.4764\\t1,624.51\\t79.3547\\n1,740.97\\t74.2176\\t1,740.97\\t74.7206\\t1,740.97\\t75.6207\\t1,740.97\\t76.5189\\t1,740.97\\t77.3685\\t1,740.97\\t78.3741\\t1,740.97\\t79.3236\\n1,866.21\\t74.5829\\t1,866.21\\t75.1531\\t1,866.21\\t75.8786\\t1,866.21\\t76.9809\\t1,866.21\\t78.3562\\t1,866.21\\t79.4222\\t1,866.21\\t79.8942\\n2,000.24\\t74.2206\\t2,000.24\\t74.9804\\t2,000.24\\t76.2451\\t2,000.24\\t78.0595\\t2,000.24\\t79.4074\\t2,000.24\\t79.9166\\t2,000.24\\t79.9897\\n'"
      ]
     },
     "execution_count": 10,
     "metadata": {},
     "output_type": "execute_result"
    }
   ],
   "source": [
    "f = open('short.txt', 'r')\n",
    "f.read()"
   ]
  },
  {
   "cell_type": "code",
   "execution_count": 14,
   "id": "108f68de",
   "metadata": {
    "collapsed": true
   },
   "outputs": [
    {
     "name": "stdout",
     "output_type": "stream",
     "text": [
      "ERROR: can not found qwe.txt\n"
     ]
    }
   ],
   "source": [
    "path = 'qwe.txt'\n",
    "f = None\n",
    "try:\n",
    "    f = open(path, 'r')\n",
    "    for line in f.readlines():\n",
    "        print(line)\n",
    "except IOError:\n",
    "    print('ERROR: can not found ' + path)\n",
    "    if f:\n",
    "        f.close()\n",
    "finally:\n",
    "    if f:\n",
    "        f.close()"
   ]
  },
  {
   "cell_type": "code",
   "execution_count": 5,
   "id": "7bc4fd24",
   "metadata": {
    "collapsed": true
   },
   "outputs": [
    {
     "name": "stdout",
     "output_type": "stream",
     "text": [
      "\"SPL Vertical\"\t\t\t\t\t\t\t\t\t\t\t\t\t\n",
      "\n",
      "\"On-Axis\"\t\t\"10°\"\t\t\"20°\"\t\t\"30°\"\t\t\"40°\"\t\t\"50°\"\t\t\"60°\"\t\n",
      "\n",
      "\"Frequency [Hz]\"\t\"Sound Pessure Level [dB]  / [2.83V 1m] \"\t\"Frequency [Hz]\"\t\"Sound Pessure Level [dB]  / [2.83V 1m] \"\t\"Frequency [Hz]\"\t\"Sound Pessure Level [dB]  / [2.83V 1m] \"\t\"Frequency [Hz]\"\t\"Sound Pessure Level [dB]  / [2.83V 1m] \"\t\"Frequency [Hz]\"\t\"Sound Pessure Level [dB]  / [2.83V 1m] \"\t\"Frequency [Hz]\"\t\"Sound Pessure Level [dB]  / [2.83V 1m] \"\t\"Frequency [Hz]\"\t\"Sound Pessure Level [dB]  / [2.83V 1m] \"\n",
      "\n",
      "870.85\t73.8711\t870.85\t74.2687\t870.85\t74.5902\t870.85\t74.8384\t870.85\t75.0322\t870.85\t75.1908\t870.85\t75.3221\n",
      "\n",
      "933.105\t73.518\t933.105\t73.858\t933.105\t74.2095\t933.105\t74.5885\t933.105\t74.9868\t933.105\t75.3753\t933.105\t75.7131\n",
      "\n",
      "999.756\t73.4344\t999.756\t74.0784\t999.756\t74.658\t999.756\t75.109\t999.756\t75.4204\t999.756\t75.6133\t999.756\t75.719\n",
      "\n",
      "1,071.53\t74.006\t1,071.53\t74.6255\t1,071.53\t75.0086\t1,071.53\t75.261\t1,071.53\t75.5058\t1,071.53\t75.8208\t1,071.53\t76.1894\n",
      "\n",
      "1,148.44\t74.3516\t1,148.44\t74.8654\t1,148.44\t75.2707\t1,148.44\t75.6302\t1,148.44\t75.9967\t1,148.44\t76.367\t1,148.44\t76.69\n",
      "\n",
      "1,231.2\t74.2225\t1,231.2\t74.7808\t1,231.2\t75.2349\t1,231.2\t75.6968\t1,231.2\t76.23\t1,231.2\t76.7935\t1,231.2\t77.2812\n",
      "\n"
     ]
    }
   ],
   "source": [
    "path = 'short.txt'\n",
    "with open(path, encoding='UTF-8') as f:\n",
    "    for line in f.readlines():\n",
    "        print(line)\n",
    "rows = len(lines)"
   ]
  },
  {
   "cell_type": "code",
   "execution_count": 3,
   "id": "d4efdf37",
   "metadata": {
    "collapsed": true
   },
   "outputs": [
    {
     "name": "stdout",
     "output_type": "stream",
     "text": [
      "[['933.105' '73.518' '933.105' '73.858' '933.105' '74.2095' '933.105'\n",
      "  '74.5885' '933.105' '74.9868' '933.105' '75.3753' '933.105' '75.7131']\n",
      " ['999.756' '73.4344' '999.756' '74.0784' '999.756' '74.658' '999.756'\n",
      "  '75.109' '999.756' '75.4204' '999.756' '75.6133' '999.756' '75.719']\n",
      " ['1071.53' '74.006' '1071.53' '74.6255' '1071.53' '75.0086' '1071.53'\n",
      "  '75.261' '1071.53' '75.5058' '1071.53' '75.8208' '1071.53' '76.1894']\n",
      " ['1148.44' '74.3516' '1148.44' '74.8654' '1148.44' '75.2707' '1148.44'\n",
      "  '75.6302' '1148.44' '75.9967' '1148.44' '76.367' '1148.44' '76.69']\n",
      " ['1231.2' '74.2225' '1231.2' '74.7808' '1231.2' '75.2349' '1231.2'\n",
      "  '75.6968' '1231.2' '76.23' '1231.2' '76.7935' '1231.2' '77.2812']]\n"
     ]
    }
   ],
   "source": [
    "import numpy as np\n",
    "path = 'short.txt'\n",
    "file = open(path, encoding='UTF-8')\n",
    "lines = file.readlines()\n",
    "title = lines[0]\n",
    "curves = lines[1]\n",
    "\n",
    "\n",
    "\n",
    "data = np.loadtxt(path, dtype=str, skiprows=4)\n",
    "data = np.char.replace(data, ',', '')\n",
    "\n",
    "print(data)\n"
   ]
  },
  {
   "cell_type": "code",
   "execution_count": 14,
   "id": "3de747ff",
   "metadata": {
    "scrolled": true
   },
   "outputs": [
    {
     "data": {
      "text/html": [
       "<div>\n",
       "<style scoped>\n",
       "    .dataframe tbody tr th:only-of-type {\n",
       "        vertical-align: middle;\n",
       "    }\n",
       "\n",
       "    .dataframe tbody tr th {\n",
       "        vertical-align: top;\n",
       "    }\n",
       "\n",
       "    .dataframe thead th {\n",
       "        text-align: right;\n",
       "    }\n",
       "</style>\n",
       "<table border=\"1\" class=\"dataframe\">\n",
       "  <thead>\n",
       "    <tr style=\"text-align: right;\">\n",
       "      <th></th>\n",
       "      <th>Frequency [Hz]</th>\n",
       "      <th>Sound Pessure Level [dB]  / [2.83V 1m]</th>\n",
       "      <th>Frequency [Hz].1</th>\n",
       "      <th>Sound Pessure Level [dB]  / [2.83V 1m] .1</th>\n",
       "      <th>Frequency [Hz].2</th>\n",
       "      <th>Sound Pessure Level [dB]  / [2.83V 1m] .2</th>\n",
       "      <th>Frequency [Hz].3</th>\n",
       "      <th>Sound Pessure Level [dB]  / [2.83V 1m] .3</th>\n",
       "      <th>Frequency [Hz].4</th>\n",
       "      <th>Sound Pessure Level [dB]  / [2.83V 1m] .4</th>\n",
       "      <th>Frequency [Hz].5</th>\n",
       "      <th>Sound Pessure Level [dB]  / [2.83V 1m] .5</th>\n",
       "      <th>Frequency [Hz].6</th>\n",
       "      <th>Sound Pessure Level [dB]  / [2.83V 1m] .6</th>\n",
       "      <th>Frequency [Hz].7</th>\n",
       "      <th>Sound Pessure Level [dB]  / [2.83V 1m] .7</th>\n",
       "      <th>Frequency [Hz].8</th>\n",
       "      <th>Sound Pessure Level [dB]  / [2.83V 1m] .8</th>\n",
       "    </tr>\n",
       "  </thead>\n",
       "  <tbody>\n",
       "    <tr>\n",
       "      <th>0</th>\n",
       "      <td>20.5078</td>\n",
       "      <td>57.5223</td>\n",
       "      <td>20.5078</td>\n",
       "      <td>57.5992</td>\n",
       "      <td>20.5078</td>\n",
       "      <td>58.1823</td>\n",
       "      <td>20.5078</td>\n",
       "      <td>58.9254</td>\n",
       "      <td>20.5078</td>\n",
       "      <td>68.6531</td>\n",
       "      <td>20.5078</td>\n",
       "      <td>69.3962</td>\n",
       "      <td>20.5078</td>\n",
       "      <td>69.9794</td>\n",
       "      <td>20.5078</td>\n",
       "      <td>63.5658</td>\n",
       "      <td>11.7188</td>\n",
       "      <td>49.2580</td>\n",
       "    </tr>\n",
       "    <tr>\n",
       "      <th>1</th>\n",
       "      <td>21.9727</td>\n",
       "      <td>54.5593</td>\n",
       "      <td>21.9727</td>\n",
       "      <td>54.6622</td>\n",
       "      <td>21.9727</td>\n",
       "      <td>55.5032</td>\n",
       "      <td>21.9727</td>\n",
       "      <td>56.6763</td>\n",
       "      <td>21.9727</td>\n",
       "      <td>67.9652</td>\n",
       "      <td>21.9727</td>\n",
       "      <td>69.1384</td>\n",
       "      <td>21.9727</td>\n",
       "      <td>69.9794</td>\n",
       "      <td>21.9727</td>\n",
       "      <td>66.0901</td>\n",
       "      <td>12.4512</td>\n",
       "      <td>41.1404</td>\n",
       "    </tr>\n",
       "    <tr>\n",
       "      <th>2</th>\n",
       "      <td>23.4375</td>\n",
       "      <td>58.5979</td>\n",
       "      <td>23.4375</td>\n",
       "      <td>58.6256</td>\n",
       "      <td>23.4375</td>\n",
       "      <td>58.9031</td>\n",
       "      <td>23.4375</td>\n",
       "      <td>59.3936</td>\n",
       "      <td>23.4375</td>\n",
       "      <td>69.2113</td>\n",
       "      <td>23.4375</td>\n",
       "      <td>69.7019</td>\n",
       "      <td>23.4375</td>\n",
       "      <td>69.9794</td>\n",
       "      <td>23.4375</td>\n",
       "      <td>68.2715</td>\n",
       "      <td>13.916</td>\n",
       "      <td>38.5316</td>\n",
       "    </tr>\n",
       "    <tr>\n",
       "      <th>3</th>\n",
       "      <td>25.6348</td>\n",
       "      <td>64.8965</td>\n",
       "      <td>25.6348</td>\n",
       "      <td>64.9171</td>\n",
       "      <td>25.6348</td>\n",
       "      <td>65.0526</td>\n",
       "      <td>25.6348</td>\n",
       "      <td>65.2064</td>\n",
       "      <td>25.6348</td>\n",
       "      <td>69.6901</td>\n",
       "      <td>25.6348</td>\n",
       "      <td>69.8439</td>\n",
       "      <td>25.6348</td>\n",
       "      <td>69.9794</td>\n",
       "      <td>25.6348</td>\n",
       "      <td>72.6332</td>\n",
       "      <td>14.6484</td>\n",
       "      <td>41.0788</td>\n",
       "    </tr>\n",
       "    <tr>\n",
       "      <th>4</th>\n",
       "      <td>27.0996</td>\n",
       "      <td>60.7536</td>\n",
       "      <td>27.0996</td>\n",
       "      <td>60.7599</td>\n",
       "      <td>27.0996</td>\n",
       "      <td>60.7600</td>\n",
       "      <td>27.0996</td>\n",
       "      <td>60.6670</td>\n",
       "      <td>27.0996</td>\n",
       "      <td>70.0723</td>\n",
       "      <td>27.0996</td>\n",
       "      <td>69.9793</td>\n",
       "      <td>27.0996</td>\n",
       "      <td>69.9794</td>\n",
       "      <td>27.0996</td>\n",
       "      <td>73.0826</td>\n",
       "      <td>15.3809</td>\n",
       "      <td>41.1868</td>\n",
       "    </tr>\n",
       "    <tr>\n",
       "      <th>...</th>\n",
       "      <td>...</td>\n",
       "      <td>...</td>\n",
       "      <td>...</td>\n",
       "      <td>...</td>\n",
       "      <td>...</td>\n",
       "      <td>...</td>\n",
       "      <td>...</td>\n",
       "      <td>...</td>\n",
       "      <td>...</td>\n",
       "      <td>...</td>\n",
       "      <td>...</td>\n",
       "      <td>...</td>\n",
       "      <td>...</td>\n",
       "      <td>...</td>\n",
       "      <td>...</td>\n",
       "      <td>...</td>\n",
       "      <td>...</td>\n",
       "      <td>...</td>\n",
       "    </tr>\n",
       "    <tr>\n",
       "      <th>96</th>\n",
       "      <td>15,999.8</td>\n",
       "      <td>97.9046</td>\n",
       "      <td>15,999.8</td>\n",
       "      <td>94.6839</td>\n",
       "      <td>15,999.8</td>\n",
       "      <td>92.3295</td>\n",
       "      <td>15,999.8</td>\n",
       "      <td>88.6068</td>\n",
       "      <td>15,999.8</td>\n",
       "      <td>76.0565</td>\n",
       "      <td>15,999.8</td>\n",
       "      <td>72.3337</td>\n",
       "      <td>15,999.8</td>\n",
       "      <td>69.9794</td>\n",
       "      <td>15,999.8</td>\n",
       "      <td>86.0479</td>\n",
       "      <td>9,189.7</td>\n",
       "      <td>70.7977</td>\n",
       "    </tr>\n",
       "    <tr>\n",
       "      <th>97</th>\n",
       "      <td>17,148.2</td>\n",
       "      <td>85.7065</td>\n",
       "      <td>17,148.2</td>\n",
       "      <td>87.6060</td>\n",
       "      <td>17,148.2</td>\n",
       "      <td>89.1345</td>\n",
       "      <td>17,148.2</td>\n",
       "      <td>86.6207</td>\n",
       "      <td>17,148.2</td>\n",
       "      <td>70.9647</td>\n",
       "      <td>17,148.2</td>\n",
       "      <td>68.4509</td>\n",
       "      <td>17,148.2</td>\n",
       "      <td>69.9794</td>\n",
       "      <td>17,148.2</td>\n",
       "      <td>85.5355</td>\n",
       "      <td>9,848.88</td>\n",
       "      <td>67.7547</td>\n",
       "    </tr>\n",
       "    <tr>\n",
       "      <th>98</th>\n",
       "      <td>18,379.4</td>\n",
       "      <td>95.2316</td>\n",
       "      <td>18,379.4</td>\n",
       "      <td>93.2550</td>\n",
       "      <td>18,379.4</td>\n",
       "      <td>89.6455</td>\n",
       "      <td>18,379.4</td>\n",
       "      <td>85.2041</td>\n",
       "      <td>18,379.4</td>\n",
       "      <td>78.0303</td>\n",
       "      <td>18,379.4</td>\n",
       "      <td>73.5889</td>\n",
       "      <td>18,379.4</td>\n",
       "      <td>69.9794</td>\n",
       "      <td>18,379.4</td>\n",
       "      <td>86.0721</td>\n",
       "      <td>10,556.4</td>\n",
       "      <td>69.9258</td>\n",
       "    </tr>\n",
       "    <tr>\n",
       "      <th>99</th>\n",
       "      <td>19,698.5</td>\n",
       "      <td>92.8366</td>\n",
       "      <td>19,698.5</td>\n",
       "      <td>91.0083</td>\n",
       "      <td>19,698.5</td>\n",
       "      <td>87.3197</td>\n",
       "      <td>19,698.5</td>\n",
       "      <td>82.8396</td>\n",
       "      <td>19,698.5</td>\n",
       "      <td>78.1481</td>\n",
       "      <td>19,698.5</td>\n",
       "      <td>73.6681</td>\n",
       "      <td>19,698.5</td>\n",
       "      <td>69.9794</td>\n",
       "      <td>19,698.5</td>\n",
       "      <td>85.2084</td>\n",
       "      <td>11,313.7</td>\n",
       "      <td>69.9950</td>\n",
       "    </tr>\n",
       "    <tr>\n",
       "      <th>100</th>\n",
       "      <td>19,999.5</td>\n",
       "      <td>92.2841</td>\n",
       "      <td>19,999.5</td>\n",
       "      <td>90.3129</td>\n",
       "      <td>19,999.5</td>\n",
       "      <td>86.6723</td>\n",
       "      <td>19,999.5</td>\n",
       "      <td>82.1080</td>\n",
       "      <td>19,999.5</td>\n",
       "      <td>78.1843</td>\n",
       "      <td>19,999.5</td>\n",
       "      <td>73.6200</td>\n",
       "      <td>19,999.5</td>\n",
       "      <td>69.9794</td>\n",
       "      <td>19,999.5</td>\n",
       "      <td>85.6132</td>\n",
       "      <td>12,126</td>\n",
       "      <td>66.9428</td>\n",
       "    </tr>\n",
       "  </tbody>\n",
       "</table>\n",
       "<p>101 rows × 18 columns</p>\n",
       "</div>"
      ],
      "text/plain": [
       "    Frequency [Hz]  Sound Pessure Level [dB]  / [2.83V 1m]  Frequency [Hz].1  \\\n",
       "0          20.5078                                  57.5223          20.5078   \n",
       "1          21.9727                                  54.5593          21.9727   \n",
       "2          23.4375                                  58.5979          23.4375   \n",
       "3          25.6348                                  64.8965          25.6348   \n",
       "4          27.0996                                  60.7536          27.0996   \n",
       "..             ...                                      ...              ...   \n",
       "96        15,999.8                                  97.9046         15,999.8   \n",
       "97        17,148.2                                  85.7065         17,148.2   \n",
       "98        18,379.4                                  95.2316         18,379.4   \n",
       "99        19,698.5                                  92.8366         19,698.5   \n",
       "100       19,999.5                                  92.2841         19,999.5   \n",
       "\n",
       "     Sound Pessure Level [dB]  / [2.83V 1m] .1 Frequency [Hz].2  \\\n",
       "0                                      57.5992          20.5078   \n",
       "1                                      54.6622          21.9727   \n",
       "2                                      58.6256          23.4375   \n",
       "3                                      64.9171          25.6348   \n",
       "4                                      60.7599          27.0996   \n",
       "..                                         ...              ...   \n",
       "96                                     94.6839         15,999.8   \n",
       "97                                     87.6060         17,148.2   \n",
       "98                                     93.2550         18,379.4   \n",
       "99                                     91.0083         19,698.5   \n",
       "100                                    90.3129         19,999.5   \n",
       "\n",
       "     Sound Pessure Level [dB]  / [2.83V 1m] .2 Frequency [Hz].3  \\\n",
       "0                                      58.1823          20.5078   \n",
       "1                                      55.5032          21.9727   \n",
       "2                                      58.9031          23.4375   \n",
       "3                                      65.0526          25.6348   \n",
       "4                                      60.7600          27.0996   \n",
       "..                                         ...              ...   \n",
       "96                                     92.3295         15,999.8   \n",
       "97                                     89.1345         17,148.2   \n",
       "98                                     89.6455         18,379.4   \n",
       "99                                     87.3197         19,698.5   \n",
       "100                                    86.6723         19,999.5   \n",
       "\n",
       "     Sound Pessure Level [dB]  / [2.83V 1m] .3 Frequency [Hz].4  \\\n",
       "0                                      58.9254          20.5078   \n",
       "1                                      56.6763          21.9727   \n",
       "2                                      59.3936          23.4375   \n",
       "3                                      65.2064          25.6348   \n",
       "4                                      60.6670          27.0996   \n",
       "..                                         ...              ...   \n",
       "96                                     88.6068         15,999.8   \n",
       "97                                     86.6207         17,148.2   \n",
       "98                                     85.2041         18,379.4   \n",
       "99                                     82.8396         19,698.5   \n",
       "100                                    82.1080         19,999.5   \n",
       "\n",
       "     Sound Pessure Level [dB]  / [2.83V 1m] .4 Frequency [Hz].5  \\\n",
       "0                                      68.6531          20.5078   \n",
       "1                                      67.9652          21.9727   \n",
       "2                                      69.2113          23.4375   \n",
       "3                                      69.6901          25.6348   \n",
       "4                                      70.0723          27.0996   \n",
       "..                                         ...              ...   \n",
       "96                                     76.0565         15,999.8   \n",
       "97                                     70.9647         17,148.2   \n",
       "98                                     78.0303         18,379.4   \n",
       "99                                     78.1481         19,698.5   \n",
       "100                                    78.1843         19,999.5   \n",
       "\n",
       "     Sound Pessure Level [dB]  / [2.83V 1m] .5 Frequency [Hz].6  \\\n",
       "0                                      69.3962          20.5078   \n",
       "1                                      69.1384          21.9727   \n",
       "2                                      69.7019          23.4375   \n",
       "3                                      69.8439          25.6348   \n",
       "4                                      69.9793          27.0996   \n",
       "..                                         ...              ...   \n",
       "96                                     72.3337         15,999.8   \n",
       "97                                     68.4509         17,148.2   \n",
       "98                                     73.5889         18,379.4   \n",
       "99                                     73.6681         19,698.5   \n",
       "100                                    73.6200         19,999.5   \n",
       "\n",
       "     Sound Pessure Level [dB]  / [2.83V 1m] .6 Frequency [Hz].7  \\\n",
       "0                                      69.9794          20.5078   \n",
       "1                                      69.9794          21.9727   \n",
       "2                                      69.9794          23.4375   \n",
       "3                                      69.9794          25.6348   \n",
       "4                                      69.9794          27.0996   \n",
       "..                                         ...              ...   \n",
       "96                                     69.9794         15,999.8   \n",
       "97                                     69.9794         17,148.2   \n",
       "98                                     69.9794         18,379.4   \n",
       "99                                     69.9794         19,698.5   \n",
       "100                                    69.9794         19,999.5   \n",
       "\n",
       "     Sound Pessure Level [dB]  / [2.83V 1m] .7 Frequency [Hz].8  \\\n",
       "0                                      63.5658          11.7188   \n",
       "1                                      66.0901          12.4512   \n",
       "2                                      68.2715           13.916   \n",
       "3                                      72.6332          14.6484   \n",
       "4                                      73.0826          15.3809   \n",
       "..                                         ...              ...   \n",
       "96                                     86.0479          9,189.7   \n",
       "97                                     85.5355         9,848.88   \n",
       "98                                     86.0721         10,556.4   \n",
       "99                                     85.2084         11,313.7   \n",
       "100                                    85.6132           12,126   \n",
       "\n",
       "     Sound Pessure Level [dB]  / [2.83V 1m] .8  \n",
       "0                                      49.2580  \n",
       "1                                      41.1404  \n",
       "2                                      38.5316  \n",
       "3                                      41.0788  \n",
       "4                                      41.1868  \n",
       "..                                         ...  \n",
       "96                                     70.7977  \n",
       "97                                     67.7547  \n",
       "98                                     69.9258  \n",
       "99                                     69.9950  \n",
       "100                                    66.9428  \n",
       "\n",
       "[101 rows x 18 columns]"
      ]
     },
     "execution_count": 14,
     "metadata": {},
     "output_type": "execute_result"
    }
   ],
   "source": [
    "import pandas as pd\n",
    "path = 'CEA2034.txt'\n",
    "# pd.read_table(path)\n",
    "data = pd.read_table(path,  header = 2, skip_blank_lines=True)\n",
    "data.dropna()"
   ]
  },
  {
   "cell_type": "code",
   "execution_count": 135,
   "id": "680fe813",
   "metadata": {
    "scrolled": false
   },
   "outputs": [
    {
     "name": "stdout",
     "output_type": "stream",
     "text": [
      "\"SPL Vertical\"\t\t\t\t\t\t\t\t\t\t\t\t\t\n",
      " ['On-Axis', '10°', '20°', '30°', '40°', '50°', '60°']\n"
     ]
    },
    {
     "data": {
      "text/plain": [
       "0      57.4676\n",
       "1      54.3268\n",
       "2      53.1383\n",
       "3      49.1255\n",
       "4      44.5313\n",
       "        ...   \n",
       "104    57.4207\n",
       "105    53.0846\n",
       "106    56.3990\n",
       "107    44.9552\n",
       "108    45.9004\n",
       "Name: 40°, Length: 109, dtype: float64"
      ]
     },
     "execution_count": 135,
     "metadata": {},
     "output_type": "execute_result"
    },
    {
     "data": {
      "image/png": "[encoded data removed]",
      "text/plain": [
       "<Figure size 432x288 with 1 Axes>"
      ]
     },
     "metadata": {
      "needs_background": "light"
     },
     "output_type": "display_data"
    }
   ],
   "source": [
    "import numpy as np\n",
    "import pandas as pd\n",
    "\n",
    "path = 'bose.txt'\n",
    "file = open(path, encoding='UTF-8')\n",
    "headers = file.readlines()[:3]\n",
    "title = headers[0]\n",
    "curves = headers[1].split('\\t\\t')\n",
    "# modify every element in an array\n",
    "curves = [c.replace('\"', '').strip() for c in curves]\n",
    "# curves.insert(0, \"Frequency\")\n",
    "print(title, curves)\n",
    "dtbl = pd.read_table(path,  skiprows=2)\n",
    "freq = dtbl.iloc[:, 0]\n",
    "dtbl = dtbl.iloc[:, [i%2==1 for i in range(len(dtbl.columns))]]\n",
    "dtbl.columns = curves\n",
    "dtbl['Frequency'] = freq\n",
    "\n",
    "dtbl.plot(x = \"Frequency\")\n",
    "\n",
    "dtbl2 = dtbl.iloc[:, 4]\n",
    "dtbl2\n",
    "\n",
    "pdDict = {}\n",
    "\n",
    "pdDict[\"dtbl1\"] = dtbl\n",
    "pdDict[\"dtbl2\"] = dtbl2\n",
    "\n",
    "pdDict[\"dtbl2\"]"
   ]
  },
  {
   "cell_type": "code",
   "execution_count": 5,
   "id": "4ea70198",
   "metadata": {},
   "outputs": [
    {
     "ename": "ValueError",
     "evalue": "could not convert string to float: 'test'",
     "output_type": "error",
     "traceback": [
      "\u001b[1;31m---------------------------------------------------------------------------\u001b[0m",
      "\u001b[1;31mValueError\u001b[0m                                Traceback (most recent call last)",
      "\u001b[1;32m<ipython-input-5-649d1a26982d>\u001b[0m in \u001b[0;36m<module>\u001b[1;34m\u001b[0m\n\u001b[0;32m      1\u001b[0m \u001b[0minputText\u001b[0m \u001b[1;33m=\u001b[0m \u001b[1;34m'test'\u001b[0m\u001b[1;33m\u001b[0m\u001b[1;33m\u001b[0m\u001b[0m\n\u001b[0;32m      2\u001b[0m \u001b[1;31m# try:\u001b[0m\u001b[1;33m\u001b[0m\u001b[1;33m\u001b[0m\u001b[1;33m\u001b[0m\u001b[0m\n\u001b[1;32m----> 3\u001b[1;33m \u001b[0moffset\u001b[0m \u001b[1;33m=\u001b[0m \u001b[0mfloat\u001b[0m\u001b[1;33m(\u001b[0m\u001b[0minputText\u001b[0m\u001b[1;33m)\u001b[0m\u001b[1;33m\u001b[0m\u001b[1;33m\u001b[0m\u001b[0m\n\u001b[0m\u001b[0;32m      4\u001b[0m \u001b[1;31m# except ValueError:\u001b[0m\u001b[1;33m\u001b[0m\u001b[1;33m\u001b[0m\u001b[1;33m\u001b[0m\u001b[0m\n\u001b[0;32m      5\u001b[0m \u001b[1;31m#     print('ERROR: can not turn ' + inputText)\u001b[0m\u001b[1;33m\u001b[0m\u001b[1;33m\u001b[0m\u001b[1;33m\u001b[0m\u001b[0m\n",
      "\u001b[1;31mValueError\u001b[0m: could not convert string to float: 'test'"
     ]
    }
   ],
   "source": [
    "inputText = 'test'\n",
    "try:\n",
    "    offset = float(inputText)\n",
    "except ValueError:\n",
    "    print('ERROR: can not turn ' + inputText)"
   ]
  },
  {
   "cell_type": "code",
   "execution_count": 18,
   "id": "2efeea15",
   "metadata": {},
   "outputs": [
    {
     "data": {
      "text/plain": [
       "'python'"
      ]
     },
     "execution_count": 18,
     "metadata": {},
     "output_type": "execute_result"
    }
   ],
   "source": [
    "pwd = '/usr/bin/python.txt'\n",
    "x = pwd.rfind('/')\n",
    "e = pwd.rfind('.')\n",
    "e\n",
    "pwd[x+1:e]"
   ]
  },
  {
   "cell_type": "code",
   "execution_count": 309,
   "id": "fdc36749",
   "metadata": {},
   "outputs": [
    {
     "name": "stdout",
     "output_type": "stream",
     "text": [
      "AxesSubplot(0.125,0.125;0.775x0.755)\n",
      "AxesSubplot(0.125,0.125;0.775x0.755)\n"
     ]
    },
    {
     "data": {
      "image/png": "[encoded data removed]",
      "text/plain": [
       "<Figure size 432x288 with 2 Axes>"
      ]
     },
     "metadata": {
      "needs_background": "light"
     },
     "output_type": "display_data"
    }
   ],
   "source": [
    "import matplotlib.pyplot as plt\n",
    "\n",
    "fig, _ = plt.subplots()\n",
    "myPlotDict = {'main': fig.axes[0]}\n",
    "fig.add_subplot(111)\n",
    "myPlotDict[title] = fig.axes[1]\n",
    "\n",
    "print(fig.axes[1])\n",
    "print(myPlotDict[title])\n",
    "\n",
    "for col in data.columns[1:]:\n",
    "    myPlotDict[title].plot(data['Frequency'], data[col], label=col)\n"
   ]
  },
  {
   "cell_type": "code",
   "execution_count": 212,
   "id": "da9e8ede",
   "metadata": {},
   "outputs": [
    {
     "data": {
      "text/plain": [
       "<AxesSubplot:xlabel='Frequency'>"
      ]
     },
     "execution_count": 212,
     "metadata": {},
     "output_type": "execute_result"
    },
    {
     "data": {
      "image/png": "[encoded data removed]",
      "text/plain": [
       "<Figure size 432x288 with 1 Axes>"
      ]
     },
     "metadata": {
      "needs_background": "light"
     },
     "output_type": "display_data"
    }
   ],
   "source": []
  },
  {
   "cell_type": "code",
   "execution_count": 313,
   "id": "dc828b11",
   "metadata": {},
   "outputs": [
    {
     "name": "stdout",
     "output_type": "stream",
     "text": [
      "[<matplotlib.lines.Line2D object at 0x000001B7088B4648>, <matplotlib.lines.Line2D object at 0x000001B7089E6F88>] ['Impedance_PR', 'Deg']\n"
     ]
    },
    {
     "data": {
      "image/png": "[encoded data removed]",
      "text/plain": [
       "<Figure size 432x288 with 2 Axes>"
      ]
     },
     "execution_count": 313,
     "metadata": {},
     "output_type": "execute_result"
    }
   ],
   "source": [
    "lines = []\n",
    "labels = []\n",
    "\n",
    "for key in myPlotDict.keys():\n",
    "    ax = myPlotDict[key]\n",
    "    axLine, axLabel = ax.get_legend_handles_labels()\n",
    "    lines.extend(axLine)\n",
    "    labels.extend(axLabel)\n",
    "\n",
    "print(lines, labels)\n",
    "\n",
    "fig.legend(lines, labels, bbox_to_anchor=(1,1), loc=\"upper left\")\n",
    "fig"
   ]
  },
  {
   "cell_type": "code",
   "execution_count": 5,
   "id": "a1ceb082",
   "metadata": {},
   "outputs": [
    {
     "name": "stdout",
     "output_type": "stream",
     "text": [
      "1\n"
     ]
    }
   ],
   "source": [
    "a = [1,2]\n",
    "for i in range(1,len(a)):\n",
    "    print(i)"
   ]
  }
 ],
 "metadata": {
  "kernelspec": {
   "display_name": "Python 3",
   "language": "python",
   "name": "python3"
  },
  "language_info": {
   "codemirror_mode": {
    "name": "ipython",
    "version": 3
   },
   "file_extension": ".py",
   "mimetype": "text/x-python",
   "name": "python",
   "nbconvert_exporter": "python",
   "pygments_lexer": "ipython3",
   "version": "3.7.9"
  }
 },
 "nbformat": 4,
 "nbformat_minor": 5
}
